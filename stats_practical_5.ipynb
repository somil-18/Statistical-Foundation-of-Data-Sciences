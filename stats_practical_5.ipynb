{
  "nbformat": 4,
  "nbformat_minor": 0,
  "metadata": {
    "colab": {
      "provenance": []
    },
    "kernelspec": {
      "name": "python3",
      "display_name": "Python 3"
    },
    "language_info": {
      "name": "python"
    }
  },
  "cells": [
    {
      "cell_type": "code",
      "execution_count": 1,
      "metadata": {
        "id": "7bV9APdrAhXI"
      },
      "outputs": [],
      "source": [
        "import numpy as np\n",
        "from scipy import stats\n",
        "import math"
      ]
    },
    {
      "cell_type": "code",
      "source": [
        "# The hypothetical dataset of 50 teacher evaluation scores\n",
        "ratings = np.array([\n",
        "    3.8, 2.5, 4.6, 4.9, 3.2, 4.1, 4.8, 3.7, 4.3, 2.9, 4.7, 3.6, 4.0, 4.4, 3.9,\n",
        "    5.0, 4.2, 3.4, 4.5, 3.8, 4.6, 4.1, 3.5, 4.8, 3.9, 4.7, 3.3, 4.0, 4.3, 3.1,\n",
        "    4.9, 2.8, 4.5, 3.7, 4.2, 3.6, 4.6, 4.1, 3.8, 4.4, 4.0, 3.9, 4.7, 4.2, 3.5,\n",
        "    4.8, 4.3, 3.0, 4.6, 4.1\n",
        "])\n",
        "ratings"
      ],
      "metadata": {
        "colab": {
          "base_uri": "https://localhost:8080/"
        },
        "id": "g4HDH2UyAuYz",
        "outputId": "2acb9d3d-dcb8-42db-cbd1-2a1bafcea7bb"
      },
      "execution_count": 3,
      "outputs": [
        {
          "output_type": "execute_result",
          "data": {
            "text/plain": [
              "array([3.8, 2.5, 4.6, 4.9, 3.2, 4.1, 4.8, 3.7, 4.3, 2.9, 4.7, 3.6, 4. ,\n",
              "       4.4, 3.9, 5. , 4.2, 3.4, 4.5, 3.8, 4.6, 4.1, 3.5, 4.8, 3.9, 4.7,\n",
              "       3.3, 4. , 4.3, 3.1, 4.9, 2.8, 4.5, 3.7, 4.2, 3.6, 4.6, 4.1, 3.8,\n",
              "       4.4, 4. , 3.9, 4.7, 4.2, 3.5, 4.8, 4.3, 3. , 4.6, 4.1])"
            ]
          },
          "metadata": {},
          "execution_count": 3
        }
      ]
    },
    {
      "cell_type": "code",
      "source": [
        "# Q1: Probability of a score greater than 4.5\n",
        "\n",
        "# Count how many scores are > 4.5\n",
        "count_gt_4_5 = np.sum(ratings > 4.5)\n",
        "total_count = len(ratings)\n",
        "# Calculate the probability\n",
        "prob_gt_4_5 = count_gt_4_5 / total_count\n",
        "\n",
        "print(f\"Q1: Probability of receiving a score > 4.5\")\n",
        "print(f\"   - Count of scores > 4.5: {count_gt_4_5}\")\n",
        "print(f\"   - Total scores: {total_count}\")\n",
        "print(f\"   - Probability: {count_gt_4_5}/{total_count} = {prob_gt_4_5:.2f} or {prob_gt_4_5:.0%}\\n\")"
      ],
      "metadata": {
        "colab": {
          "base_uri": "https://localhost:8080/"
        },
        "id": "1zJS7Wj_39k_",
        "outputId": "d88df56f-4e52-428e-84e9-62a7000a4d62"
      },
      "execution_count": 4,
      "outputs": [
        {
          "output_type": "stream",
          "name": "stdout",
          "text": [
            "Q1: Probability of receiving a score > 4.5\n",
            "   - Count of scores > 4.5: 13\n",
            "   - Total scores: 50\n",
            "   - Probability: 13/50 = 0.26 or 26%\n",
            "\n"
          ]
        }
      ]
    },
    {
      "cell_type": "code",
      "source": [
        "# Q2: Probability of a score > 3.5 and < 4.2\n",
        "\n",
        "# Use a boolean mask to find scores that meet both conditions\n",
        "count_between = np.sum((ratings > 3.5) & (ratings < 4.2))\n",
        "# Calculate the probability\n",
        "prob_between = count_between / total_count\n",
        "\n",
        "print(f\"Q2: Probability of receiving a score > 3.5 and < 4.2\")\n",
        "print(f\"   - Count of scores in range: {count_between}\")\n",
        "print(f\"   - Total scores: {total_count}\")\n",
        "print(f\"   - Probability: {count_between}/{total_count} = {prob_between:.2f} or {prob_between:.0%}\\n\")"
      ],
      "metadata": {
        "colab": {
          "base_uri": "https://localhost:8080/"
        },
        "id": "nDw_1WYv4LJA",
        "outputId": "9db1c1cf-5b35-4213-c515-6f7e0cbcb306"
      },
      "execution_count": 5,
      "outputs": [
        {
          "output_type": "stream",
          "name": "stdout",
          "text": [
            "Q2: Probability of receiving a score > 3.5 and < 4.2\n",
            "   - Count of scores in range: 17\n",
            "   - Total scores: 50\n",
            "   - Probability: 17/50 = 0.34 or 34%\n",
            "\n"
          ]
        }
      ]
    },
    {
      "cell_type": "code",
      "source": [
        "# Q3: Stating Hypotheses and Performing a Z-test\n",
        "print(\"Stating the Hypotheses:\")\n",
        "# The null hypothesis (H0) is a statement of no difference.\n",
        "print(\"Null Hypothesis (H0): The mean score of the regional players is equal to 12. ($H_0: \\\\mu = 12$)\")\n",
        "# The alternative hypothesis (Ha) is what the coach wants to test.\n",
        "print(\"Alternative Hypothesis (Ha): The mean score of the regional players is not equal to 12. ($H_a: \\\\mu \\\\neq 12$)\\n\")\n",
        "\n",
        "# Given information from the problem\n",
        "mu_0 = 12       # Historic mean (population mean under H0)\n",
        "sigma = 5.5     # Population standard deviation\n",
        "n = 36          # Sample size\n",
        "x_bar = 10.7    # Sample mean\n",
        "\n",
        "# Step 1: Calculate the standard error of the mean (SEM)\n",
        "# This measures the standard deviation of the sample mean's distribution.\n",
        "sem = sigma / math.sqrt(n)\n",
        "\n",
        "# Step 2: Calculate the Z-score (the test statistic)\n",
        "# This tells us how many standard errors the sample mean is from the population mean.\n",
        "z_score = (x_bar - mu_0) / sem\n",
        "\n",
        "# Step 3: Calculate the p-value for a two-tailed test\n",
        "# This is the probability of observing a result as extreme as, or more extreme than, the one we got.\n",
        "# We multiply by 2 because it's a two-tailed test (we care about differences in both directions).\n",
        "p_value = 2 * stats.norm.cdf(z_score)\n",
        "\n",
        "print(\"Performing the Two-Tailed Z-test:\")\n",
        "print(f\"   - Sample Mean (x̄): {x_bar}\")\n",
        "print(f\"   - Z-score: {z_score:.4f}\")\n",
        "print(f\"   - P-value: {p_value:.4f}\\n\")\n",
        "\n",
        "# Step 4: Make a conclusion based on a significance level (alpha), usually 0.05\n",
        "alpha = 0.05\n",
        "print(f\"Conclusion (at α = {alpha} significance level):\")\n",
        "if p_value < alpha:\n",
        "    print(f\"   - Since the p-value ({p_value:.4f}) is less than {alpha}, we REJECT the null hypothesis.\")\n",
        "    print(\"   - There is statistically significant evidence to conclude that the professional team's average score is different from that of the regional players.\")\n",
        "else:\n",
        "    print(f\"   - Since the p-value ({p_value:.4f}) is greater than {alpha}, we FAIL TO REJECT the null hypothesis.\")\n",
        "    print(\"   - There is not enough evidence to conclude that the professional team's average score is different from that of the regional players.\")"
      ],
      "metadata": {
        "colab": {
          "base_uri": "https://localhost:8080/"
        },
        "id": "vOL_7Sh_4Uu_",
        "outputId": "feb29152-4d23-4fe1-d4d4-00fd9ea84101"
      },
      "execution_count": 6,
      "outputs": [
        {
          "output_type": "stream",
          "name": "stdout",
          "text": [
            "Stating the Hypotheses:\n",
            "Null Hypothesis (H0): The mean score of the regional players is equal to 12. ($H_0: \\mu = 12$)\n",
            "Alternative Hypothesis (Ha): The mean score of the regional players is not equal to 12. ($H_a: \\mu \\neq 12$)\n",
            "\n",
            "Performing the Two-Tailed Z-test:\n",
            "   - Sample Mean (x̄): 10.7\n",
            "   - Z-score: -1.4182\n",
            "   - P-value: 0.1561\n",
            "\n",
            "Conclusion (at α = 0.05 significance level):\n",
            "   - Since the p-value (0.1561) is greater than 0.05, we FAIL TO REJECT the null hypothesis.\n",
            "   - There is not enough evidence to conclude that the professional team's average score is different from that of the regional players.\n"
          ]
        }
      ]
    },
    {
      "cell_type": "code",
      "source": [],
      "metadata": {
        "id": "M6DCuZsw4c8P"
      },
      "execution_count": null,
      "outputs": []
    }
  ]
}