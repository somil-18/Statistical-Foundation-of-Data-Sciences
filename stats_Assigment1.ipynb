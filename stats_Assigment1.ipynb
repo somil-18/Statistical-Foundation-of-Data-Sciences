{
 "cells": [
  {
   "cell_type": "code",
   "execution_count": 8,
   "id": "77c396c7-6bd0-474b-b31c-9edd0e09296f",
   "metadata": {},
   "outputs": [],
   "source": [
    "import pandas as pd\n",
    "import numpy as np"
   ]
  },
  {
   "cell_type": "code",
   "execution_count": 65,
   "id": "86e8e5ef-703c-4698-9a53-896fb057a03e",
   "metadata": {},
   "outputs": [
    {
     "data": {
      "text/html": [
       "<div>\n",
       "<style scoped>\n",
       "    .dataframe tbody tr th:only-of-type {\n",
       "        vertical-align: middle;\n",
       "    }\n",
       "\n",
       "    .dataframe tbody tr th {\n",
       "        vertical-align: top;\n",
       "    }\n",
       "\n",
       "    .dataframe thead th {\n",
       "        text-align: right;\n",
       "    }\n",
       "</style>\n",
       "<table border=\"1\" class=\"dataframe\">\n",
       "  <thead>\n",
       "    <tr style=\"text-align: right;\">\n",
       "      <th></th>\n",
       "      <th>age</th>\n",
       "      <th>income</th>\n",
       "    </tr>\n",
       "  </thead>\n",
       "  <tbody>\n",
       "    <tr>\n",
       "      <th>0</th>\n",
       "      <td>24</td>\n",
       "      <td>33986.0</td>\n",
       "    </tr>\n",
       "    <tr>\n",
       "      <th>1</th>\n",
       "      <td>37</td>\n",
       "      <td>49090.0</td>\n",
       "    </tr>\n",
       "    <tr>\n",
       "      <th>2</th>\n",
       "      <td>46</td>\n",
       "      <td>32666.0</td>\n",
       "    </tr>\n",
       "    <tr>\n",
       "      <th>3</th>\n",
       "      <td>32</td>\n",
       "      <td>NaN</td>\n",
       "    </tr>\n",
       "    <tr>\n",
       "      <th>4</th>\n",
       "      <td>28</td>\n",
       "      <td>NaN</td>\n",
       "    </tr>\n",
       "    <tr>\n",
       "      <th>...</th>\n",
       "      <td>...</td>\n",
       "      <td>...</td>\n",
       "    </tr>\n",
       "    <tr>\n",
       "      <th>145</th>\n",
       "      <td>48</td>\n",
       "      <td>25791.0</td>\n",
       "    </tr>\n",
       "    <tr>\n",
       "      <th>146</th>\n",
       "      <td>28</td>\n",
       "      <td>46309.0</td>\n",
       "    </tr>\n",
       "    <tr>\n",
       "      <th>147</th>\n",
       "      <td>36</td>\n",
       "      <td>41919.0</td>\n",
       "    </tr>\n",
       "    <tr>\n",
       "      <th>148</th>\n",
       "      <td>34</td>\n",
       "      <td>NaN</td>\n",
       "    </tr>\n",
       "    <tr>\n",
       "      <th>149</th>\n",
       "      <td>25</td>\n",
       "      <td>NaN</td>\n",
       "    </tr>\n",
       "  </tbody>\n",
       "</table>\n",
       "<p>150 rows × 2 columns</p>\n",
       "</div>"
      ],
      "text/plain": [
       "     age   income\n",
       "0     24  33986.0\n",
       "1     37  49090.0\n",
       "2     46  32666.0\n",
       "3     32      NaN\n",
       "4     28      NaN\n",
       "..   ...      ...\n",
       "145   48  25791.0\n",
       "146   28  46309.0\n",
       "147   36  41919.0\n",
       "148   34      NaN\n",
       "149   25      NaN\n",
       "\n",
       "[150 rows x 2 columns]"
      ]
     },
     "execution_count": 65,
     "metadata": {},
     "output_type": "execute_result"
    }
   ],
   "source": [
    "np.random.seed(42)\n",
    "\n",
    "number_records = 150\n",
    "\n",
    "data = {\n",
    "    \"age\": np.random.randint(18, 50, size=number_records),\n",
    "    \"income\": np.random.randint(20000, 50000, size=number_records),\n",
    "}\n",
    "\n",
    "df = pd.DataFrame(data)\n",
    "\n",
    "nan_indices_income = np.random.choice(df.index, 50, replace=False)\n",
    "nan_indices_score = np.random.choice(df.index, 30, replace=False)\n",
    "\n",
    "df.loc[nan_indices_income, \"income\"] = np.nan\n",
    "\n",
    "df"
   ]
  },
  {
   "cell_type": "markdown",
   "id": "2c81d4ac-73f3-4412-ba28-65b8a6244f25",
   "metadata": {},
   "source": [
    "#### Problem 1: Compute (a) mean, (b) median, and (c) age-weighted mean of income. Ignore NaNs where appropriate. Explain when a weighted mean is preferable. "
   ]
  },
  {
   "cell_type": "code",
   "execution_count": 67,
   "id": "d005a6c5-79bc-428e-a89f-de7828c70a81",
   "metadata": {},
   "outputs": [
    {
     "name": "stdout",
     "output_type": "stream",
     "text": [
      "Mean Income: 37,284.79\n",
      "Median Income: 38,676.00\n",
      "Age-Weighted Mean Income: 37,411.74\n"
     ]
    }
   ],
   "source": [
    "# mean of income\n",
    "mean_income = df['income'].mean()\n",
    "print(f\"Mean Income: {mean_income:,.2f}\")\n",
    "\n",
    "# median of incom\n",
    "median_income = df['income'].median()\n",
    "print(f\"Median Income: {median_income:,.2f}\")\n",
    "\n",
    "# age-weighted mean of income\n",
    "temp_df = df.dropna(subset=['income', 'age'])\n",
    "age_weighted_mean_income = np.average(temp_df['income'], weights=temp_df['age'])\n",
    "print(f\"Age-Weighted Mean Income: {age_weighted_mean_income:,.2f}\")"
   ]
  },
  {
   "cell_type": "markdown",
   "id": "ff30bc9b-b5d3-4e85-b5bc-fbf3c621d4b6",
   "metadata": {},
   "source": [
    "#### Problem 2: Standardize income (z-score). Report how many incomes are outliers using rule |z| > 3. Handle NaNs correctly (do not drop entire rows unnecessarily). "
   ]
  },
  {
   "cell_type": "code",
   "execution_count": 69,
   "id": "755c8187-4090-4d1f-ac6d-55740490fb98",
   "metadata": {},
   "outputs": [
    {
     "name": "stdout",
     "output_type": "stream",
     "text": [
      "Mean Income for Z-Score Calculation: 37284.79\n",
      "Std Dev of Income for Z-Score Calculation: 8310.64\n",
      "\n",
      "First 5 rows with Z-scores:\n",
      "    income  income_zscore\n",
      "0  33986.0      -0.396936\n",
      "1  49090.0       1.420494\n",
      "2  32666.0      -0.555768\n",
      "3      NaN            NaN\n",
      "4      NaN            NaN\n",
      "\n",
      "Number of income outliers (|z| > 3): 0\n"
     ]
    }
   ],
   "source": [
    "income_mean = df['income'].mean()\n",
    "income_std = df['income'].std()\n",
    "\n",
    "# z score\n",
    "df['income_zscore'] = (df['income'] - income_mean) / income_std\n",
    "\n",
    "# z>3 (outliers)\n",
    "num_outliers = (df['income_zscore'].abs() > 3).sum()\n",
    "\n",
    "print(f\"Mean Income for Z-Score Calculation: {income_mean:.2f}\")\n",
    "print(f\"Std Dev of Income for Z-Score Calculation: {income_std:.2f}\\n\")\n",
    "print(\"First 5 rows with Z-scores:\")\n",
    "print(df[['income', 'income_zscore']].head())\n",
    "print(f\"\\nNumber of income outliers (|z| > 3): {num_outliers}\")"
   ]
  },
  {
   "cell_type": "markdown",
   "id": "b96f5c93-1230-4810-9681-cfbbc5d8f454",
   "metadata": {},
   "source": [
    "#### Problem 3: Create age bins: [18-25), [25-35), [35-45), [45-60) and compute for each bin: count of observations, mean income, median score. Show result as a tidy DataFrame sorted by age bin. "
   ]
  },
  {
   "cell_type": "code",
   "execution_count": 75,
   "id": "567f0fbb-35fa-44f9-9bf9-8481c4e2d5c7",
   "metadata": {},
   "outputs": [
    {
     "data": {
      "text/html": [
       "<div>\n",
       "<style scoped>\n",
       "    .dataframe tbody tr th:only-of-type {\n",
       "        vertical-align: middle;\n",
       "    }\n",
       "\n",
       "    .dataframe tbody tr th {\n",
       "        vertical-align: top;\n",
       "    }\n",
       "\n",
       "    .dataframe thead th {\n",
       "        text-align: right;\n",
       "    }\n",
       "</style>\n",
       "<table border=\"1\" class=\"dataframe\">\n",
       "  <thead>\n",
       "    <tr style=\"text-align: right;\">\n",
       "      <th></th>\n",
       "      <th>count_of_observations</th>\n",
       "      <th>mean_income</th>\n",
       "    </tr>\n",
       "    <tr>\n",
       "      <th>age_bin</th>\n",
       "      <th></th>\n",
       "      <th></th>\n",
       "    </tr>\n",
       "  </thead>\n",
       "  <tbody>\n",
       "    <tr>\n",
       "      <th>[18, 25)</th>\n",
       "      <td>26</td>\n",
       "      <td>36239.000000</td>\n",
       "    </tr>\n",
       "    <tr>\n",
       "      <th>[25, 35)</th>\n",
       "      <td>47</td>\n",
       "      <td>37092.555556</td>\n",
       "    </tr>\n",
       "    <tr>\n",
       "      <th>[35, 45)</th>\n",
       "      <td>47</td>\n",
       "      <td>38340.314286</td>\n",
       "    </tr>\n",
       "    <tr>\n",
       "      <th>[45, 60)</th>\n",
       "      <td>30</td>\n",
       "      <td>36659.368421</td>\n",
       "    </tr>\n",
       "  </tbody>\n",
       "</table>\n",
       "</div>"
      ],
      "text/plain": [
       "          count_of_observations   mean_income\n",
       "age_bin                                      \n",
       "[18, 25)                     26  36239.000000\n",
       "[25, 35)                     47  37092.555556\n",
       "[35, 45)                     47  38340.314286\n",
       "[45, 60)                     30  36659.368421"
      ]
     },
     "execution_count": 75,
     "metadata": {},
     "output_type": "execute_result"
    }
   ],
   "source": [
    "bins = [18, 25, 35, 45, 60]\n",
    "\n",
    "df['age_bin'] = pd.cut(df['age'], bins=bins, right=False)\n",
    "\n",
    "age_bin_analysis = (\n",
    "    df.groupby('age_bin', observed=True)\n",
    "    .agg(count_of_observations=('age', 'count'), mean_income=('income', 'mean')))\n",
    "\n",
    "age_bin_analysis"
   ]
  },
  {
   "cell_type": "markdown",
   "id": "d7a7f3fb-2a0b-4989-bbad-f7ab43ae4f7e",
   "metadata": {},
   "source": [
    "#### Problem 4: Create an array it cannot be of 1 Dimension. And then showcase the operation for the following:  Shape and Resize → shape, size, Transpose, Flatten Showcasing negative indexing and display error while doing slicing Arithmetic Operations → Broadcasting, Dot Product Linear Algebra → Determinant, Inverse "
   ]
  },
  {
   "cell_type": "code",
   "execution_count": 77,
   "id": "077881bc-7b64-4da2-ac7c-c766f30a8cf2",
   "metadata": {},
   "outputs": [
    {
     "name": "stdout",
     "output_type": "stream",
     "text": [
      "Original Array:\n",
      "[[ 0  1  2  3]\n",
      " [ 4  5  6  7]\n",
      " [ 8  9 10 11]]\n"
     ]
    }
   ],
   "source": [
    "# 2D array\n",
    "my_array = np.arange(12).reshape(3, 4)\n",
    "print(\"Original Array:\")\n",
    "print(my_array)"
   ]
  },
  {
   "cell_type": "code",
   "execution_count": 79,
   "id": "38b9abaf-7948-4523-94f2-f27634f4e168",
   "metadata": {},
   "outputs": [
    {
     "name": "stdout",
     "output_type": "stream",
     "text": [
      "\n",
      "--- Shape and Resize Operations ---\n",
      "Shape of the array: (3, 4)\n",
      "Size (total elements) of the array: 12\n",
      "Transposed Array (T):\n",
      "[[ 0  4  8]\n",
      " [ 1  5  9]\n",
      " [ 2  6 10]\n",
      " [ 3  7 11]]\n",
      "Flattened Array (1D):\n",
      "[ 0  1  2  3  4  5  6  7  8  9 10 11]\n"
     ]
    }
   ],
   "source": [
    "# Shape and Resize\n",
    "print(\"\\n--- Shape and Resize Operations ---\")\n",
    "print(f\"Shape of the array: {my_array.shape}\")\n",
    "print(f\"Size (total elements) of the array: {my_array.size}\")\n",
    "print(\"Transposed Array (T):\")\n",
    "print(my_array.T)\n",
    "print(\"Flattened Array (1D):\")\n",
    "print(my_array.flatten())"
   ]
  },
  {
   "cell_type": "code",
   "execution_count": 46,
   "id": "bc302bba-f069-43ca-8f77-a622c7488d4e",
   "metadata": {},
   "outputs": [
    {
     "name": "stdout",
     "output_type": "stream",
     "text": [
      "\n",
      "--- Indexing and Slicing ---\n",
      "Last element using negative indexing my_array[-1, -1]: 11\n"
     ]
    }
   ],
   "source": [
    "# Negative Indexing and Slicing Error\n",
    "print(\"\\n--- Indexing and Slicing ---\")\n",
    "# Negative indexing gets the last element from the last row\n",
    "last_element = my_array[-1, -1]\n",
    "print(f\"Last element using negative indexing my_array[-1, -1]: {last_element}\")"
   ]
  },
  {
   "cell_type": "code",
   "execution_count": 48,
   "id": "25290ead-fe2e-4f18-9704-af244fc79328",
   "metadata": {},
   "outputs": [
    {
     "name": "stdout",
     "output_type": "stream",
     "text": [
      "\n",
      "Successfully caught an expected error: index 5 is out of bounds for axis 0 with size 3\n"
     ]
    }
   ],
   "source": [
    "# Displaying an error while slicing\n",
    "try:\n",
    "    error_slice = my_array[5, 5]\n",
    "except IndexError as e:\n",
    "    print(f\"\\nSuccessfully caught an expected error: {e}\")"
   ]
  },
  {
   "cell_type": "code",
   "execution_count": 50,
   "id": "e5cd532f-10fc-4a67-9aef-aed1ba2a40ab",
   "metadata": {},
   "outputs": [
    {
     "name": "stdout",
     "output_type": "stream",
     "text": [
      "\n",
      "--- Arithmetic Operations ---\n",
      "Broadcasting (Array + 100):\n",
      "[[100 101 102 103]\n",
      " [104 105 106 107]\n",
      " [108 109 110 111]]\n"
     ]
    }
   ],
   "source": [
    "# Arithmetic Operations\n",
    "print(\"\\n--- Arithmetic Operations ---\")\n",
    "# Broadcasting: adding a scalar to the array\n",
    "broadcasted_array = my_array + 100\n",
    "print(\"Broadcasting (Array + 100):\")\n",
    "print(broadcasted_array)"
   ]
  },
  {
   "cell_type": "code",
   "execution_count": 52,
   "id": "ad0ce902-5e05-4cb7-a4f0-06f19463e663",
   "metadata": {},
   "outputs": [
    {
     "name": "stdout",
     "output_type": "stream",
     "text": [
      "\n",
      "Second array for dot product (shape 4x2):\n",
      "[[1 2]\n",
      " [3 4]\n",
      " [5 6]\n",
      " [7 8]]\n",
      "Dot Product of a 3x4 and 4x2 array (result is 3x2):\n",
      "[[ 34  40]\n",
      " [ 98 120]\n",
      " [162 200]]\n"
     ]
    }
   ],
   "source": [
    "# Dot Product\n",
    "array_b = np.array([[1, 2], [3, 4], [5, 6], [7, 8]])\n",
    "print(\"\\nSecond array for dot product (shape 4x2):\")\n",
    "print(array_b)\n",
    "\n",
    "dot_product = my_array @ array_b # Using the @ operator\n",
    "print(\"Dot Product of a 3x4 and 4x2 array (result is 3x2):\")\n",
    "print(dot_product)"
   ]
  },
  {
   "cell_type": "code",
   "execution_count": 54,
   "id": "a86ffeb3-823e-4624-89fd-c738042a67ed",
   "metadata": {},
   "outputs": [
    {
     "name": "stdout",
     "output_type": "stream",
     "text": [
      "\n",
      "--- Linear Algebra ---\n",
      "Square Matrix:\n",
      "[[4 7]\n",
      " [2 6]]\n"
     ]
    }
   ],
   "source": [
    "# Linear Algebra\n",
    "print(\"\\n--- Linear Algebra ---\")\n",
    "# Determinant and Inverse require a square matrix (NxN)\n",
    "square_matrix = np.array([[4, 7], [2, 6]])\n",
    "print(\"Square Matrix:\")\n",
    "print(square_matrix)"
   ]
  },
  {
   "cell_type": "code",
   "execution_count": 56,
   "id": "3b4bc1db-43d3-4c73-af42-0a6b620fab36",
   "metadata": {},
   "outputs": [
    {
     "name": "stdout",
     "output_type": "stream",
     "text": [
      "\n",
      "Determinant of the square matrix: 10.00\n"
     ]
    }
   ],
   "source": [
    "# Calculate the determinant\n",
    "determinant = np.linalg.det(square_matrix)\n",
    "print(f\"\\nDeterminant of the square matrix: {determinant:.2f}\")"
   ]
  },
  {
   "cell_type": "code",
   "execution_count": 58,
   "id": "d4f1a382-0177-4e87-8f4b-42ced3c6fd6b",
   "metadata": {},
   "outputs": [
    {
     "name": "stdout",
     "output_type": "stream",
     "text": [
      "Inverse of the square matrix:\n",
      "[[ 0.6 -0.7]\n",
      " [-0.2  0.4]]\n"
     ]
    }
   ],
   "source": [
    "# Calculate the inverse\n",
    "if determinant != 0:\n",
    "    inverse_matrix = np.linalg.inv(square_matrix)\n",
    "    print(\"Inverse of the square matrix:\")\n",
    "    print(inverse_matrix)\n",
    "else:\n",
    "    print(\"Matrix does not have an inverse (determinant is zero).\")"
   ]
  },
  {
   "cell_type": "code",
   "execution_count": null,
   "id": "d4e52e2c-df79-4016-8334-007ea1b3480d",
   "metadata": {},
   "outputs": [],
   "source": []
  }
 ],
 "metadata": {
  "kernelspec": {
   "display_name": "Python 3 (ipykernel)",
   "language": "python",
   "name": "python3"
  },
  "language_info": {
   "codemirror_mode": {
    "name": "ipython",
    "version": 3
   },
   "file_extension": ".py",
   "mimetype": "text/x-python",
   "name": "python",
   "nbconvert_exporter": "python",
   "pygments_lexer": "ipython3",
   "version": "3.12.4"
  }
 },
 "nbformat": 4,
 "nbformat_minor": 5
}
